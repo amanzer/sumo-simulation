{
 "cells": [
  {
   "cell_type": "code",
   "execution_count": 1,
   "metadata": {},
   "outputs": [
    {
     "name": "stdout",
     "output_type": "stream",
     "text": [
      "Distance: 8.1 km\n",
      "Duration: 24 mins\n"
     ]
    }
   ],
   "source": [
    "import requests\n",
    "import os\n",
    "\n",
    "# API endpoint\n",
    "url = 'https://maps.googleapis.com/maps/api/distancematrix/json'\n",
    "\n",
    "API_KEY = os.getenv('API_KEY')\n",
    "\n",
    "# API parameters\n",
    "params = {\n",
    "    'origins': 'Grand Place, Brussels',\n",
    "    'destinations': 'Atomium, Brussels',\n",
    "    'key': API_KEY\n",
    "}\n",
    "\n",
    "response = requests.get(url, params=params)\n",
    "\n",
    "\n",
    "if response.status_code == 200:\n",
    "    # Parse JSON response\n",
    "    data = response.json()\n",
    "\n",
    "    # Extract distance and duration information\n",
    "    distance = data['rows'][0]['elements'][0]['distance']['text']\n",
    "    duration = data['rows'][0]['elements'][0]['duration']['text']\n",
    "\n",
    "    # Print information\n",
    "    print(f\"Distance: {distance}\")\n",
    "    print(f\"Duration: {duration}\")\n",
    "else:\n",
    "    print(\"fail\")\n"
   ]
  },
  {
   "cell_type": "code",
   "execution_count": 2,
   "metadata": {},
   "outputs": [
    {
     "data": {
      "text/plain": [
       "{'destination_addresses': [\"Pl. de l'Atomium 1, 1020 Bruxelles, Belgium\"],\n",
       " 'origin_addresses': ['Grand-Place, 1000 Bruxelles, Belgium'],\n",
       " 'rows': [{'elements': [{'distance': {'text': '8.1 km', 'value': 8133},\n",
       "     'duration': {'text': '24 mins', 'value': 1454},\n",
       "     'status': 'OK'}]}],\n",
       " 'status': 'OK'}"
      ]
     },
     "execution_count": 2,
     "metadata": {},
     "output_type": "execute_result"
    }
   ],
   "source": [
    "data"
   ]
  }
 ],
 "metadata": {
  "kernelspec": {
   "display_name": "Python 3",
   "language": "python",
   "name": "python3"
  },
  "language_info": {
   "codemirror_mode": {
    "name": "ipython",
    "version": 3
   },
   "file_extension": ".py",
   "mimetype": "text/x-python",
   "name": "python",
   "nbconvert_exporter": "python",
   "pygments_lexer": "ipython3",
   "version": "3.11.2"
  },
  "orig_nbformat": 4
 },
 "nbformat": 4,
 "nbformat_minor": 2
}
