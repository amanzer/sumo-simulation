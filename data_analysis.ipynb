{
 "cells": [
  {
   "cell_type": "code",
   "execution_count": 1,
   "metadata": {},
   "outputs": [
    {
     "name": "stdout",
     "output_type": "stream",
     "text": [
      "Distance: 8.1 km\n",
      "Duration: 24 mins\n"
     ]
    }
   ],
   "source": [
    "import requests\n",
    "import os\n",
    "\n",
    "# API endpoint\n",
    "url = 'https://maps.googleapis.com/maps/api/distancematrix/json'\n",
    "\n",
    "API_KEY = os.getenv('API_KEY')\n",
    "\n",
    "# Define the list of origin and destination coordinates\n",
    "origins = [\n",
    "    '50.85045,4.34878',  # Grand Place, Brussels\n",
    "    '51.21944,4.40246',  # Antwerp Central Station\n",
    "    '51.22172,4.41539',  # Rubenshuis, Antwerp\n",
    "    # Add more origin coordinates as needed\n",
    "]\n",
    "\n",
    "destinations = [\n",
    "    '50.89504,4.34134',  # Atomium, Brussels\n",
    "    '51.21291,4.42549',  # MAS Museum, Antwerp\n",
    "    '51.21762,4.41594',  # Cathedral of Our Lady, Antwerp\n",
    "    # Add more destination coordinates as needed\n",
    "]\n",
    "\n",
    "# API parameters\n",
    "params = {\n",
    "    'origins': '|'.join(origins),\n",
    "    'destinations': '|'.join(destinations),\n",
    "    'key': API_KEY\n",
    "}\n",
    "\n",
    "response = requests.get(url, params=params)\n",
    "\n",
    "if response.status_code == 200:\n",
    "    # Parse JSON response\n",
    "    data = response.json()\n",
    "\n",
    "    # Extract distance and duration information\n",
    "    rows = data['rows']\n",
    "    for row in rows:\n",
    "        elements = row['elements']\n",
    "        for element in elements:\n",
    "            distance = element['distance']['text']\n",
    "            duration = element['duration']['text']\n",
    "\n",
    "            # Print information\n",
    "            print(f\"Distance: {distance}\")\n",
    "            print(f\"Duration: {duration}\")\n",
    "else:\n",
    "    print(\"fail\")\n"
   ]
  },
  {
   "cell_type": "code",
   "execution_count": 1,
   "metadata": {},
   "outputs": [
    {
     "ename": "NameError",
     "evalue": "name 'data' is not defined",
     "output_type": "error",
     "traceback": [
      "\u001b[0;31m---------------------------------------------------------------------------\u001b[0m",
      "\u001b[0;31mNameError\u001b[0m                                 Traceback (most recent call last)",
      "Cell \u001b[0;32mIn[1], line 1\u001b[0m\n\u001b[0;32m----> 1\u001b[0m data\n",
      "\u001b[0;31mNameError\u001b[0m: name 'data' is not defined"
     ]
    }
   ],
   "source": [
    "data"
   ]
  },
  {
   "cell_type": "code",
   "execution_count": 24,
   "metadata": {},
   "outputs": [],
   "source": [
    "# reading xml input file\n",
    "\n",
    "import xml.etree.ElementTree as ET\n",
    "\n",
    "def read_xml_file(xml_file_name):\n",
    "    tree = ET.parse(xml_file_name)\n",
    "    root = tree.getroot()\n",
    "    return root\n",
    "\n",
    "\n",
    "data = read_xml_file('ulb/trips.trips.xml')"
   ]
  },
  {
   "cell_type": "code",
   "execution_count": 25,
   "metadata": {},
   "outputs": [
    {
     "data": {
      "text/plain": [
       "3600"
      ]
     },
     "execution_count": 25,
     "metadata": {},
     "output_type": "execute_result"
    }
   ],
   "source": [
    "len(data)"
   ]
  },
  {
   "cell_type": "code",
   "execution_count": 12,
   "metadata": {},
   "outputs": [
    {
     "name": "stdout",
     "output_type": "stream",
     "text": [
      "Collecting sumolib\n",
      "  Downloading sumolib-1.16.0-py3-none-any.whl (145 kB)\n",
      "\u001b[2K     \u001b[90m━━━━━━━━━━━━━━━━━━━━━━━━━━━━━━━━━━━━━\u001b[0m \u001b[32m146.0/146.0 kB\u001b[0m \u001b[31m159.3 kB/s\u001b[0m eta \u001b[36m0:00:00\u001b[0ma \u001b[36m0:00:01\u001b[0m\n",
      "\u001b[?25hInstalling collected packages: sumolib\n",
      "Successfully installed sumolib-1.16.0\n"
     ]
    }
   ],
   "source": [
    "!pip install sumolib"
   ]
  },
  {
   "cell_type": "code",
   "execution_count": 21,
   "metadata": {},
   "outputs": [
    {
     "name": "stdout",
     "output_type": "stream",
     "text": [
      "(2458.55, 7025.86)\n",
      "(2453.81, 7028.15)\n"
     ]
    }
   ],
   "source": [
    "import sumolib\n",
    "\n",
    "net = sumolib.net.readNet('ulb/ulb.net.xml')\n",
    "\n",
    "# retrieve the coordinate of a node based on its ID\n",
    "print (net.getNode('1825074245').getCoord())\n",
    "print (net.getNode('338336532').getCoord())\n",
    "\n",
    "# retrieve the successor node ID of an edge\n",
    "#nextNodeID = net.getEdge('m30601140').getToNode().getID()"
   ]
  },
  {
   "cell_type": "code",
   "execution_count": 18,
   "metadata": {},
   "outputs": [
    {
     "data": {
      "text/plain": [
       "<edge id=\"30601140#2\" from=\"1825074245\" to=\"338336532\"/>"
      ]
     },
     "execution_count": 18,
     "metadata": {},
     "output_type": "execute_result"
    }
   ],
   "source": [
    "net.getEdge('30601140#2')"
   ]
  },
  {
   "cell_type": "code",
   "execution_count": 26,
   "metadata": {},
   "outputs": [
    {
     "data": {
      "text/plain": [
       "[(4494.31, 7284.06), (4494.43, 7283.89)]"
      ]
     },
     "execution_count": 26,
     "metadata": {},
     "output_type": "execute_result"
    }
   ],
   "source": [
    "net.getEdge('30089441#2').getShape()"
   ]
  },
  {
   "cell_type": "code",
   "execution_count": null,
   "metadata": {},
   "outputs": [],
   "source": [
    "\n",
    "@function\n",
    "def getEdgeCoordinates(net, edgeID):\n",
    "    edge = net.getEdge(edgeID)\n",
    "    return edge.getShape()"
   ]
  },
  {
   "cell_type": "code",
   "execution_count": null,
   "metadata": {},
   "outputs": [],
   "source": []
  }
 ],
 "metadata": {
  "kernelspec": {
   "display_name": "Python 3",
   "language": "python",
   "name": "python3"
  },
  "language_info": {
   "codemirror_mode": {
    "name": "ipython",
    "version": 3
   },
   "file_extension": ".py",
   "mimetype": "text/x-python",
   "name": "python",
   "nbconvert_exporter": "python",
   "pygments_lexer": "ipython3",
   "version": "3.11.2"
  },
  "orig_nbformat": 4
 },
 "nbformat": 4,
 "nbformat_minor": 2
}
